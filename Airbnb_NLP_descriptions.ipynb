{
 "cells": [
  {
   "cell_type": "markdown",
   "metadata": {},
   "source": [
    "# Imports and Loading the Data"
   ]
  },
  {
   "cell_type": "code",
   "execution_count": 1,
   "metadata": {},
   "outputs": [],
   "source": [
    "# Imports\n",
    "import numpy as np\n",
    "import pandas as pd\n",
    "import matplotlib.pyplot as plt\n",
    "from sklearn.model_selection import train_test_split\n",
    "import string\n",
    "\n",
    "import warnings\n",
    "warnings.filterwarnings('ignore')\n",
    "%matplotlib inline\n",
    "\n",
    "import spacy\n",
    "import nltk\n",
    "from nltk.corpus import stopwords\n",
    "from nltk.tokenize import RegexpTokenizer\n",
    "from nltk.stem import WordNetLemmatizer\n",
    "import re\n",
    "import gensim\n",
    "\n",
    "#nltk.download('stopwords')\n",
    "#nltk.download('wordnet')"
   ]
  },
  {
   "cell_type": "code",
   "execution_count": 2,
   "metadata": {},
   "outputs": [],
   "source": [
    "# Load the data\n",
    "listings = pd.read_csv('https://raw.githubusercontent.com/jphil-16/Thinkful_Projects_JDP/main/listings.csv')"
   ]
  },
  {
   "cell_type": "code",
   "execution_count": 3,
   "metadata": {},
   "outputs": [
    {
     "data": {
      "text/html": [
       "<div>\n",
       "<style scoped>\n",
       "    .dataframe tbody tr th:only-of-type {\n",
       "        vertical-align: middle;\n",
       "    }\n",
       "\n",
       "    .dataframe tbody tr th {\n",
       "        vertical-align: top;\n",
       "    }\n",
       "\n",
       "    .dataframe thead th {\n",
       "        text-align: right;\n",
       "    }\n",
       "</style>\n",
       "<table border=\"1\" class=\"dataframe\">\n",
       "  <thead>\n",
       "    <tr style=\"text-align: right;\">\n",
       "      <th></th>\n",
       "      <th>name</th>\n",
       "      <th>description</th>\n",
       "      <th>room_type</th>\n",
       "      <th>price</th>\n",
       "      <th>last_review</th>\n",
       "      <th>reviews_per_month</th>\n",
       "    </tr>\n",
       "  </thead>\n",
       "  <tbody>\n",
       "    <tr>\n",
       "      <th>0</th>\n",
       "      <td>Casa Madrona - Urban Oasis 1 block from the park!</td>\n",
       "      <td>Gorgeous, architect remodeled, Dutch Colonial ...</td>\n",
       "      <td>Entire home/apt</td>\n",
       "      <td>$295.00</td>\n",
       "      <td>2020-02-01</td>\n",
       "      <td>0.22</td>\n",
       "    </tr>\n",
       "    <tr>\n",
       "      <th>1</th>\n",
       "      <td>Glorious sun room w/ memory foambed</td>\n",
       "      <td>Keeping you safe is our priority, we are adher...</td>\n",
       "      <td>Private room</td>\n",
       "      <td>$55.00</td>\n",
       "      <td>2019-12-27</td>\n",
       "      <td>1.19</td>\n",
       "    </tr>\n",
       "    <tr>\n",
       "      <th>2</th>\n",
       "      <td>The Adorable Sweet Orange Craftsman</td>\n",
       "      <td>The Sweet Orange is a delightful and spacious ...</td>\n",
       "      <td>Entire home/apt</td>\n",
       "      <td>$155.00</td>\n",
       "      <td>2019-12-30</td>\n",
       "      <td>0.37</td>\n",
       "    </tr>\n",
       "    <tr>\n",
       "      <th>3</th>\n",
       "      <td>The Coolest Tangerine Dream MIL!</td>\n",
       "      <td>Welcome to my delicious Tangerine Dream!  A co...</td>\n",
       "      <td>Entire home/apt</td>\n",
       "      <td>$125.00</td>\n",
       "      <td>2020-08-31</td>\n",
       "      <td>0.50</td>\n",
       "    </tr>\n",
       "    <tr>\n",
       "      <th>4</th>\n",
       "      <td>the down home , spacious, central and fab!</td>\n",
       "      <td>We are in a great neighborhood, quiet, full of...</td>\n",
       "      <td>Entire home/apt</td>\n",
       "      <td>$100.00</td>\n",
       "      <td>2020-09-28</td>\n",
       "      <td>0.85</td>\n",
       "    </tr>\n",
       "  </tbody>\n",
       "</table>\n",
       "</div>"
      ],
      "text/plain": [
       "                                                name  \\\n",
       "0  Casa Madrona - Urban Oasis 1 block from the park!   \n",
       "1                Glorious sun room w/ memory foambed   \n",
       "2                The Adorable Sweet Orange Craftsman   \n",
       "3                   The Coolest Tangerine Dream MIL!   \n",
       "4         the down home , spacious, central and fab!   \n",
       "\n",
       "                                         description        room_type  \\\n",
       "0  Gorgeous, architect remodeled, Dutch Colonial ...  Entire home/apt   \n",
       "1  Keeping you safe is our priority, we are adher...     Private room   \n",
       "2  The Sweet Orange is a delightful and spacious ...  Entire home/apt   \n",
       "3  Welcome to my delicious Tangerine Dream!  A co...  Entire home/apt   \n",
       "4  We are in a great neighborhood, quiet, full of...  Entire home/apt   \n",
       "\n",
       "     price last_review  reviews_per_month  \n",
       "0  $295.00  2020-02-01               0.22  \n",
       "1   $55.00  2019-12-27               1.19  \n",
       "2  $155.00  2019-12-30               0.37  \n",
       "3  $125.00  2020-08-31               0.50  \n",
       "4  $100.00  2020-09-28               0.85  "
      ]
     },
     "execution_count": 3,
     "metadata": {},
     "output_type": "execute_result"
    }
   ],
   "source": [
    "# Drop the features that won't be used\n",
    "listings = listings.drop(columns=['id', 'listing_url', 'scrape_id', 'last_scraped',\n",
    "       'picture_url', 'host_id', 'host_url',\n",
    "       'host_name', 'host_since', 'host_location', 'host_about', 'host_response_rate', 'host_acceptance_rate', 'host_thumbnail_url', 'host_picture_url',\n",
    "       'host_neighbourhood', 'host_listings_count', 'accommodates', 'bathrooms_text', 'beds',\n",
    "       'host_total_listings_count', 'host_verifications',\n",
    "       'host_has_profile_pic', 'host_identity_verified', 'neighbourhood',\n",
    "       'neighbourhood_cleansed', 'latitude', 'neighbourhood_group_cleansed',\n",
    "       'longitude', 'property_type', 'bathrooms', 'bedrooms',\n",
    "       'minimum_nights', 'maximum_nights', 'minimum_minimum_nights',\n",
    "       'maximum_minimum_nights', 'minimum_maximum_nights',\n",
    "       'maximum_maximum_nights', 'minimum_nights_avg_ntm',\n",
    "       'maximum_nights_avg_ntm', 'calendar_updated', 'has_availability',\n",
    "       'availability_30', 'availability_60', 'availability_90',\n",
    "       'availability_365', 'calendar_last_scraped',\n",
    "       'number_of_reviews_ltm', 'number_of_reviews_l30d', 'first_review', 'review_scores_accuracy',\n",
    "       'review_scores_cleanliness', 'review_scores_checkin',\n",
    "       'review_scores_communication', 'review_scores_location',\n",
    "       'review_scores_value', 'license', 'neighborhood_overview',\n",
    "       'calculated_host_listings_count', 'host_response_time', 'host_is_superhost',\n",
    "       'calculated_host_listings_count_entire_homes', 'amenities', 'number_of_reviews',\n",
    "       'calculated_host_listings_count_private_rooms', 'review_scores_rating', 'instant_bookable', \n",
    "       'calculated_host_listings_count_shared_rooms'])\n",
    "\n",
    "# Take a quick look at the data\n",
    "listings.head()"
   ]
  },
  {
   "cell_type": "code",
   "execution_count": 4,
   "metadata": {},
   "outputs": [
    {
     "data": {
      "text/plain": [
       "Index(['name', 'description', 'room_type', 'price', 'last_review',\n",
       "       'reviews_per_month'],\n",
       "      dtype='object')"
      ]
     },
     "execution_count": 4,
     "metadata": {},
     "output_type": "execute_result"
    }
   ],
   "source": [
    "# See what columns are left\n",
    "listings.columns"
   ]
  },
  {
   "cell_type": "markdown",
   "metadata": {},
   "source": [
    "# Clean the Text Data"
   ]
  },
  {
   "cell_type": "code",
   "execution_count": 5,
   "metadata": {},
   "outputs": [],
   "source": [
    "# First things first - drop the rows that have empty values\n",
    "# We can afford this step because we will still have thousands of data entires\n",
    "listings = listings.dropna()\n",
    "listings.reset_index(drop = True, inplace = True)"
   ]
  },
  {
   "cell_type": "code",
   "execution_count": 6,
   "metadata": {},
   "outputs": [],
   "source": [
    "# Clean the text\n",
    "def text_cleaner(text):\n",
    "    text = re.sub(r\"(\\b|\\s+\\-?|^\\-?)(\\d+|\\d*\\.\\d+)\\b\", \" \", text)\n",
    "    text = ' '.join(text.split())\n",
    "    return text\n",
    "\n",
    "listings[\"description\"] = listings[\"description\"].apply(lambda x: text_cleaner(x))\n",
    "listings[\"description\"].head(10)\n",
    "\n",
    "for i in range(len(listings)):\n",
    "    listings.loc[i, 'description'] = listings.loc[i, 'description'].replace('<b>','')\n",
    "    \n",
    "for i in range(len(listings)):\n",
    "    listings.loc[i, 'description'] = listings.loc[i, 'description'].replace('</b>','')\n",
    "    \n",
    "for i in range(len(listings)):\n",
    "    listings.loc[i, 'description'] = listings.loc[i, 'description'].replace('<br />',' ')\n",
    "    \n",
    "for i in range(len(listings)):\n",
    "    listings.loc[i, 'description'] = listings.loc[i, 'description'].replace('@','')\n",
    "    \n",
    "for i in range(len(listings)):\n",
    "    listings.loc[i, 'description'] = listings.loc[i, 'description'].replace('*',' ')"
   ]
  },
  {
   "cell_type": "code",
   "execution_count": 7,
   "metadata": {},
   "outputs": [
    {
     "data": {
      "text/plain": [
       "3490    Located in South Park Seattle our AirBNB suite...\n",
       "3491    Looking for an urban treehouse in Seattle Welc...\n",
       "3492    This is a small narrow closet under our stairw...\n",
       "3493    This is a microstudio in a building apartment ...\n",
       "3494    Garden guest suite in centrally located townho...\n",
       "3495    This is a big room with two queen beds in a th...\n",
       "3496    The Seaboard a historic landmark  Seattle icon...\n",
       "3497    come enjoy this remodeled Beautiful modern uni...\n",
       "3498    NEW LISTING This updated bedroom apartment rig...\n",
       "3499    A perfect private spot on one of the most char...\n",
       "Name: description, dtype: object"
      ]
     },
     "execution_count": 7,
     "metadata": {},
     "output_type": "execute_result"
    }
   ],
   "source": [
    "# remove punctuation\n",
    "def remove_punctuation(text):\n",
    "    no_punct = \"\".join([c for c in text if c not in string.punctuation])\n",
    "    return no_punct\n",
    "\n",
    "listings[\"description\"] = listings[\"description\"].apply(lambda x: remove_punctuation(x))\n",
    "listings[\"description\"].tail(10)"
   ]
  },
  {
   "cell_type": "code",
   "execution_count": 8,
   "metadata": {},
   "outputs": [
    {
     "data": {
      "text/plain": [
       "3490    [located, in, south, park, seattle, our, airbn...\n",
       "3491    [looking, for, an, urban, treehouse, in, seatt...\n",
       "3492    [this, is, a, small, narrow, closet, under, ou...\n",
       "3493    [this, is, a, microstudio, in, a, building, ap...\n",
       "3494    [garden, guest, suite, in, centrally, located,...\n",
       "3495    [this, is, a, big, room, with, two, queen, bed...\n",
       "3496    [the, seaboard, a, historic, landmark, seattle...\n",
       "3497    [come, enjoy, this, remodeled, beautiful, mode...\n",
       "3498    [new, listing, this, updated, bedroom, apartme...\n",
       "3499    [a, perfect, private, spot, on, one, of, the, ...\n",
       "Name: description, dtype: object"
      ]
     },
     "execution_count": 8,
     "metadata": {},
     "output_type": "execute_result"
    }
   ],
   "source": [
    "# Tokenization\n",
    "tokenizer = RegexpTokenizer(r'\\w+')\n",
    "listings[\"description\"] = listings[\"description\"].apply(lambda x: tokenizer.tokenize(x.lower()))\n",
    "listings[\"description\"].tail(10)"
   ]
  },
  {
   "cell_type": "code",
   "execution_count": 9,
   "metadata": {},
   "outputs": [
    {
     "data": {
      "text/plain": [
       "3490    [located, south, park, seattle, airbnb, suite,...\n",
       "3491    [looking, urban, treehouse, seattle, welcome, ...\n",
       "3492    [small, narrow, closet, stairwell, see, pictur...\n",
       "3493    [microstudio, building, apartment, complex, ce...\n",
       "3494    [garden, guest, suite, centrally, located, tow...\n",
       "3495    [big, room, two, queen, beds, three, bedroom, ...\n",
       "3496    [seaboard, historic, landmark, seattle, icon, ...\n",
       "3497    [come, enjoy, remodeled, beautiful, modern, un...\n",
       "3498    [new, listing, updated, bedroom, apartment, ri...\n",
       "3499    [perfect, private, spot, one, charming, crafts...\n",
       "Name: description, dtype: object"
      ]
     },
     "execution_count": 9,
     "metadata": {},
     "output_type": "execute_result"
    }
   ],
   "source": [
    "# Remove stop words\n",
    "def remove_stopwords(text):\n",
    "    words = [w for w in text if w not in stopwords.words('english')]\n",
    "    return words\n",
    "\n",
    "listings[\"description\"] = listings[\"description\"].apply(lambda x: remove_stopwords(x))\n",
    "listings[\"description\"].tail(10)"
   ]
  },
  {
   "cell_type": "code",
   "execution_count": 10,
   "metadata": {},
   "outputs": [
    {
     "data": {
      "text/plain": [
       "3490    located south park seattle airbnb suite featur...\n",
       "3491    looking urban treehouse seattle welcome trendy...\n",
       "3492    small narrow closet stairwell see picture dime...\n",
       "3493    microstudio building apartment complex central...\n",
       "3494    garden guest suite centrally located townhome ...\n",
       "3495    big room two queen bed three bedroom apartment...\n",
       "3496    seaboard historic landmark seattle icon emerge...\n",
       "3497    come enjoy remodeled beautiful modern unit sea...\n",
       "3498    new listing updated bedroom apartment right ne...\n",
       "3499    perfect private spot one charming craftsmanfil...\n",
       "Name: description, dtype: object"
      ]
     },
     "execution_count": 10,
     "metadata": {},
     "output_type": "execute_result"
    }
   ],
   "source": [
    "# Lemmatizing\n",
    "lemmatizer = WordNetLemmatizer()\n",
    "\n",
    "def word_lemmatizer(text):\n",
    "    lem_text = \" \".join([lemmatizer.lemmatize(i) for i in text])\n",
    "    return lem_text\n",
    "\n",
    "listings[\"description\"] = listings[\"description\"].apply(lambda x: word_lemmatizer(x))\n",
    "listings[\"description\"].tail(10)"
   ]
  },
  {
   "cell_type": "markdown",
   "metadata": {},
   "source": [
    "# Clean the Numerical Data"
   ]
  },
  {
   "cell_type": "code",
   "execution_count": 11,
   "metadata": {},
   "outputs": [],
   "source": [
    "# Next we have to transform numerical columns that are currently in string form\n",
    "\n",
    "# The listing price needs to be converted from a string to a number\n",
    "listings['price'] = listings['price'].replace('[\\$,]', '', regex=True).astype(float)\n",
    "\n",
    "# The \"last review\" date needs the first 4 digits extracted to give us the year of the last review\n",
    "# We will use this to filter out abandoned listings later on\n",
    "year_last_review = pd.DataFrame([listings.loc[i,'last_review'][:4] for i in range(len(listings))])\n",
    "year_last_review.columns = ['year_last_review']\n",
    "listings = pd.concat([listings, year_last_review], axis = 1, sort = False)"
   ]
  },
  {
   "cell_type": "code",
   "execution_count": 12,
   "metadata": {},
   "outputs": [],
   "source": [
    "# Now we need to filter out data that we don't want\n",
    "\n",
    "# Filter on price first\n",
    "# Drop rows with expensive listings (We will use $400 as a manual cut-off)\n",
    "index_names_highprice = listings[listings['price'] > 400 ].index \n",
    "listings.drop(index_names_highprice, inplace = True)\n",
    "\n",
    "# Filter on last review date\n",
    "# Drop rows with no recent reviews (which represent abandoned listings)\n",
    "index_names_old = listings[listings['year_last_review'] != '2020' ].index \n",
    "listings.drop(index_names_old, inplace = True)"
   ]
  },
  {
   "cell_type": "code",
   "execution_count": 13,
   "metadata": {},
   "outputs": [
    {
     "data": {
      "image/png": "[encoded data removed]",
      "text/plain": [
       "<Figure size 432x288 with 1 Axes>"
      ]
     },
     "metadata": {
      "needs_background": "light"
     },
     "output_type": "display_data"
    }
   ],
   "source": [
    "# Create a new column that represents the success of the listing\n",
    "listings['success_score'] = listings['price'] * listings['reviews_per_month']\n",
    "\n",
    "# Take a quick look at how the target variable is distrubted\n",
    "plt.hist(listings['success_score'], alpha = .5, bins = 20)\n",
    "plt.title('Listing Success Distribution')\n",
    "plt.xlabel('Success Score')\n",
    "plt.ylabel('Number of Listings')\n",
    "plt.show()"
   ]
  },
  {
   "cell_type": "code",
   "execution_count": 14,
   "metadata": {},
   "outputs": [],
   "source": [
    "# bucket the target variable to be categorical\n",
    "\n",
    "listings = listings.reset_index(drop=True)\n",
    "for i in range(len(listings)):\n",
    "    if listings.loc[i,'success_score'] > 500:\n",
    "        listings.loc[i, 'success_score'] = \"high\"\n",
    "    elif listings.loc[i, 'success_score'] < 350:\n",
    "        listings.loc[i, 'success_score'] = \"low\"\n",
    "    else:\n",
    "        listings.loc[i, 'success_score'] = \"med\""
   ]
  },
  {
   "cell_type": "code",
   "execution_count": 15,
   "metadata": {},
   "outputs": [],
   "source": [
    "# Drop the columns that are no longer used\n",
    "listings = listings.drop(columns=['room_type', 'price', 'year_last_review', 'reviews_per_month', 'last_review'])"
   ]
  },
  {
   "cell_type": "code",
   "execution_count": 16,
   "metadata": {},
   "outputs": [
    {
     "data": {
      "text/html": [
       "<div>\n",
       "<style scoped>\n",
       "    .dataframe tbody tr th:only-of-type {\n",
       "        vertical-align: middle;\n",
       "    }\n",
       "\n",
       "    .dataframe tbody tr th {\n",
       "        vertical-align: top;\n",
       "    }\n",
       "\n",
       "    .dataframe thead th {\n",
       "        text-align: right;\n",
       "    }\n",
       "</style>\n",
       "<table border=\"1\" class=\"dataframe\">\n",
       "  <thead>\n",
       "    <tr style=\"text-align: right;\">\n",
       "      <th></th>\n",
       "      <th>name</th>\n",
       "      <th>description</th>\n",
       "      <th>success_score</th>\n",
       "    </tr>\n",
       "  </thead>\n",
       "  <tbody>\n",
       "    <tr>\n",
       "      <th>0</th>\n",
       "      <td>Casa Madrona - Urban Oasis 1 block from the park!</td>\n",
       "      <td>gorgeous architect remodeled dutch colonial he...</td>\n",
       "      <td>low</td>\n",
       "    </tr>\n",
       "    <tr>\n",
       "      <th>1</th>\n",
       "      <td>The Coolest Tangerine Dream MIL!</td>\n",
       "      <td>welcome delicious tangerine dream colorful coz...</td>\n",
       "      <td>low</td>\n",
       "    </tr>\n",
       "    <tr>\n",
       "      <th>2</th>\n",
       "      <td>the down home , spacious, central and fab!</td>\n",
       "      <td>great neighborhood quiet full garden walkabili...</td>\n",
       "      <td>low</td>\n",
       "    </tr>\n",
       "    <tr>\n",
       "      <th>3</th>\n",
       "      <td>the orange house, quiet 'n central</td>\n",
       "      <td>space wonderful designer decorated bungalow ha...</td>\n",
       "      <td>low</td>\n",
       "    </tr>\n",
       "    <tr>\n",
       "      <th>4</th>\n",
       "      <td>Stylish Oasis in a Prime Location in Belltown</td>\n",
       "      <td>step onto private balcony condo peekaboo view ...</td>\n",
       "      <td>low</td>\n",
       "    </tr>\n",
       "    <tr>\n",
       "      <th>5</th>\n",
       "      <td>Beautiful, Private Spot in Quiet Ballard</td>\n",
       "      <td>social distancing extra covid precaution place...</td>\n",
       "      <td>med</td>\n",
       "    </tr>\n",
       "    <tr>\n",
       "      <th>6</th>\n",
       "      <td>Cozy Ballard Apartment</td>\n",
       "      <td>enjoy simple apartment beautiful ballard neigh...</td>\n",
       "      <td>low</td>\n",
       "    </tr>\n",
       "    <tr>\n",
       "      <th>7</th>\n",
       "      <td>Your Home Away From Home.  Private Parking ons...</td>\n",
       "      <td>live like local seattle ballard private place ...</td>\n",
       "      <td>low</td>\n",
       "    </tr>\n",
       "    <tr>\n",
       "      <th>8</th>\n",
       "      <td>green suite seattle - dog friendly</td>\n",
       "      <td>space quiet ecofriendly get away family friend...</td>\n",
       "      <td>low</td>\n",
       "    </tr>\n",
       "    <tr>\n",
       "      <th>9</th>\n",
       "      <td>Light and airy, steps to the Lake.</td>\n",
       "      <td>offer clean well maintained guest suite family...</td>\n",
       "      <td>low</td>\n",
       "    </tr>\n",
       "  </tbody>\n",
       "</table>\n",
       "</div>"
      ],
      "text/plain": [
       "                                                name  \\\n",
       "0  Casa Madrona - Urban Oasis 1 block from the park!   \n",
       "1                   The Coolest Tangerine Dream MIL!   \n",
       "2         the down home , spacious, central and fab!   \n",
       "3                 the orange house, quiet 'n central   \n",
       "4      Stylish Oasis in a Prime Location in Belltown   \n",
       "5           Beautiful, Private Spot in Quiet Ballard   \n",
       "6                             Cozy Ballard Apartment   \n",
       "7  Your Home Away From Home.  Private Parking ons...   \n",
       "8                 green suite seattle - dog friendly   \n",
       "9                 Light and airy, steps to the Lake.   \n",
       "\n",
       "                                         description success_score  \n",
       "0  gorgeous architect remodeled dutch colonial he...           low  \n",
       "1  welcome delicious tangerine dream colorful coz...           low  \n",
       "2  great neighborhood quiet full garden walkabili...           low  \n",
       "3  space wonderful designer decorated bungalow ha...           low  \n",
       "4  step onto private balcony condo peekaboo view ...           low  \n",
       "5  social distancing extra covid precaution place...           med  \n",
       "6  enjoy simple apartment beautiful ballard neigh...           low  \n",
       "7  live like local seattle ballard private place ...           low  \n",
       "8  space quiet ecofriendly get away family friend...           low  \n",
       "9  offer clean well maintained guest suite family...           low  "
      ]
     },
     "execution_count": 16,
     "metadata": {},
     "output_type": "execute_result"
    }
   ],
   "source": [
    "# Let's take another quick look at what our data looks like after all that...\n",
    "listings.head(10)"
   ]
  },
  {
   "cell_type": "markdown",
   "metadata": {},
   "source": [
    "# Use BoW to Convert the Text Features and generate models"
   ]
  },
  {
   "cell_type": "code",
   "execution_count": 17,
   "metadata": {},
   "outputs": [],
   "source": [
    "from sklearn.feature_extraction.text import CountVectorizer\n",
    "\n",
    "vectorizer = CountVectorizer(analyzer='word')\n",
    "X = vectorizer.fit_transform(listings[\"description\"])\n",
    "bow_df = pd.DataFrame(X.toarray(), columns=vectorizer.get_feature_names())\n",
    "descriptions = pd.concat([bow_df, listings[[\"description\", \"success_score\"]]], axis=1)\n",
    "descriptions = descriptions.dropna()"
   ]
  },
  {
   "cell_type": "code",
   "execution_count": 18,
   "metadata": {},
   "outputs": [
    {
     "name": "stdout",
     "output_type": "stream",
     "text": [
      "----------------------Logistic Regression Scores----------------------\n",
      "Training set score: 0.9957805907172996\n",
      "\n",
      "Test set score: 0.7289972899728997\n",
      "----------------------Random Forest Scores----------------------\n",
      "Training set score: 0.9963833634719711\n",
      "\n",
      "Test set score: 0.7651309846431797\n",
      "----------------------Gradient Boosting Scores----------------------\n",
      "Training set score: 0.805304400241109\n",
      "\n",
      "Test set score: 0.7479674796747967\n"
     ]
    }
   ],
   "source": [
    "from sklearn.linear_model import LogisticRegression\n",
    "from sklearn.ensemble import RandomForestClassifier, GradientBoostingClassifier\n",
    "from sklearn.model_selection import train_test_split\n",
    "\n",
    "Y = descriptions['success_score']\n",
    "X = np.array(descriptions.drop(['description','success_score'], 1))\n",
    "\n",
    "# Split the dataset into training and test sets\n",
    "X_train, X_test, y_train, y_test = train_test_split(X, Y, test_size=0.4, random_state=123)\n",
    "\n",
    "# Models\n",
    "lr = LogisticRegression()\n",
    "rfc = RandomForestClassifier()\n",
    "gbc = GradientBoostingClassifier()\n",
    "\n",
    "lr.fit(X_train, y_train)\n",
    "rfc.fit(X_train, y_train)\n",
    "gbc.fit(X_train, y_train)\n",
    "\n",
    "print(\"----------------------Logistic Regression Scores----------------------\")\n",
    "print('Training set score:', lr.score(X_train, y_train))\n",
    "print('\\nTest set score:', lr.score(X_test, y_test))\n",
    "\n",
    "print(\"----------------------Random Forest Scores----------------------\")\n",
    "print('Training set score:', rfc.score(X_train, y_train))\n",
    "print('\\nTest set score:', rfc.score(X_test, y_test))\n",
    "\n",
    "print(\"----------------------Gradient Boosting Scores----------------------\")\n",
    "print('Training set score:', gbc.score(X_train, y_train))\n",
    "print('\\nTest set score:', gbc.score(X_test, y_test))"
   ]
  },
  {
   "cell_type": "markdown",
   "metadata": {},
   "source": [
    "# Use TF-IDF to Convert the Text Features and generate models"
   ]
  },
  {
   "cell_type": "code",
   "execution_count": 19,
   "metadata": {},
   "outputs": [],
   "source": [
    "from sklearn.feature_extraction.text import TfidfVectorizer\n",
    "\n",
    "vectorizer = TfidfVectorizer(\n",
    "    max_df=0.5, min_df=2, use_idf=True, norm=u'l2', smooth_idf=True)\n",
    "\n",
    "\n",
    "# Applying the vectorizer\n",
    "X = vectorizer.fit_transform(listings[\"description\"])\n",
    "\n",
    "tfidf_df = pd.DataFrame(X.toarray(), columns=vectorizer.get_feature_names())\n",
    "descriptions = pd.concat([bow_df, listings[[\"description\", \"success_score\"]]], axis=1)\n",
    "descriptions = descriptions.dropna()"
   ]
  },
  {
   "cell_type": "code",
   "execution_count": 20,
   "metadata": {
    "scrolled": true
   },
   "outputs": [
    {
     "name": "stdout",
     "output_type": "stream",
     "text": [
      "----------------------Logistic Regression Scores----------------------\n",
      "Training set score: 0.9957805907172996\n",
      "\n",
      "Test set score: 0.7289972899728997\n",
      "----------------------Random Forest Scores----------------------\n",
      "Training set score: 0.9963833634719711\n",
      "\n",
      "Test set score: 0.7642276422764228\n",
      "----------------------Gradient Boosting Scores----------------------\n",
      "Training set score: 0.8059071729957806\n",
      "\n",
      "Test set score: 0.7506775067750677\n"
     ]
    }
   ],
   "source": [
    "Y = descriptions['success_score']\n",
    "X = np.array(descriptions.drop(['description','success_score'], 1))\n",
    "\n",
    "# Split the dataset into training and test sets\n",
    "X_train, X_test, y_train, y_test = train_test_split(X, Y, test_size=0.4, random_state=123)\n",
    "\n",
    "# Models\n",
    "lr = LogisticRegression()\n",
    "rfc = RandomForestClassifier()\n",
    "gbc = GradientBoostingClassifier()\n",
    "\n",
    "lr.fit(X_train, y_train)\n",
    "rfc.fit(X_train, y_train)\n",
    "gbc.fit(X_train, y_train)\n",
    "\n",
    "print(\"----------------------Logistic Regression Scores----------------------\")\n",
    "print('Training set score:', lr.score(X_train, y_train))\n",
    "print('\\nTest set score:', lr.score(X_test, y_test))\n",
    "\n",
    "print(\"----------------------Random Forest Scores----------------------\")\n",
    "print('Training set score:', rfc.score(X_train, y_train))\n",
    "print('\\nTest set score:', rfc.score(X_test, y_test))\n",
    "\n",
    "print(\"----------------------Gradient Boosting Scores----------------------\")\n",
    "print('Training set score:', gbc.score(X_train, y_train))\n",
    "print('\\nTest set score:', gbc.score(X_test, y_test))"
   ]
  },
  {
   "cell_type": "markdown",
   "metadata": {},
   "source": [
    "# Use word2vec to Convert the Text Features and generate models"
   ]
  },
  {
   "cell_type": "code",
   "execution_count": 21,
   "metadata": {},
   "outputs": [],
   "source": [
    "# Train word2vec on the descriptions\n",
    "model = gensim.models.Word2Vec(\n",
    "    descriptions[\"description\"],\n",
    "    workers=4,\n",
    "    min_count=1,\n",
    "    window=6,\n",
    "    sg=0,\n",
    "    sample=1e-3,\n",
    "    size=100,\n",
    "    hs=1\n",
    ")"
   ]
  },
  {
   "cell_type": "code",
   "execution_count": 25,
   "metadata": {},
   "outputs": [],
   "source": [
    "word2vec_arr = np.zeros((descriptions.shape[0],100))\n",
    "\n",
    "for i, desc in enumerate(descriptions[\"description\"]):\n",
    "    word2vec_arr[i,:] = np.mean([model[lemma] for lemma in desc], axis=0)\n",
    "\n",
    "word2vec_arr = pd.DataFrame(word2vec_arr)\n",
    "descriptions = pd.concat([bow_df, listings[[\"description\", \"success_score\"]]], axis=1)\n",
    "descriptions = descriptions.dropna()"
   ]
  },
  {
   "cell_type": "code",
   "execution_count": 26,
   "metadata": {},
   "outputs": [
    {
     "name": "stdout",
     "output_type": "stream",
     "text": [
      "----------------------Logistic Regression Scores----------------------\n",
      "Training set score: 0.9957805907172996\n",
      "\n",
      "Test set score: 0.7289972899728997\n",
      "----------------------Random Forest Scores----------------------\n",
      "Training set score: 0.9963833634719711\n",
      "\n",
      "Test set score: 0.7633242999096658\n",
      "----------------------Gradient Boosting Scores----------------------\n",
      "Training set score: 0.8071127185051236\n",
      "\n",
      "Test set score: 0.7497741644083108\n"
     ]
    }
   ],
   "source": [
    "Y = descriptions['success_score']\n",
    "X = np.array(descriptions.drop(['description','success_score'], 1))\n",
    "\n",
    "# Split the dataset into training and test sets\n",
    "X_train, X_test, y_train, y_test = train_test_split(X, Y, test_size=0.4, random_state=123)\n",
    "\n",
    "# Models\n",
    "lr = LogisticRegression()\n",
    "rfc = RandomForestClassifier()\n",
    "gbc = GradientBoostingClassifier()\n",
    "\n",
    "lr.fit(X_train, y_train)\n",
    "rfc.fit(X_train, y_train)\n",
    "gbc.fit(X_train, y_train)\n",
    "\n",
    "print(\"----------------------Logistic Regression Scores----------------------\")\n",
    "print('Training set score:', lr.score(X_train, y_train))\n",
    "print('\\nTest set score:', lr.score(X_test, y_test))\n",
    "\n",
    "print(\"----------------------Random Forest Scores----------------------\")\n",
    "print('Training set score:', rfc.score(X_train, y_train))\n",
    "print('\\nTest set score:', rfc.score(X_test, y_test))\n",
    "\n",
    "print(\"----------------------Gradient Boosting Scores----------------------\")\n",
    "print('Training set score:', gbc.score(X_train, y_train))\n",
    "print('\\nTest set score:', gbc.score(X_test, y_test))"
   ]
  },
  {
   "cell_type": "markdown",
   "metadata": {},
   "source": [
    "# See the most common words in each success group"
   ]
  },
  {
   "cell_type": "code",
   "execution_count": 46,
   "metadata": {},
   "outputs": [
    {
     "data": {
      "text/html": [
       "<div>\n",
       "<style scoped>\n",
       "    .dataframe tbody tr th:only-of-type {\n",
       "        vertical-align: middle;\n",
       "    }\n",
       "\n",
       "    .dataframe tbody tr th {\n",
       "        vertical-align: top;\n",
       "    }\n",
       "\n",
       "    .dataframe thead th {\n",
       "        text-align: right;\n",
       "    }\n",
       "</style>\n",
       "<table border=\"1\" class=\"dataframe\">\n",
       "  <thead>\n",
       "    <tr style=\"text-align: right;\">\n",
       "      <th></th>\n",
       "      <th>ratio - high</th>\n",
       "    </tr>\n",
       "  </thead>\n",
       "  <tbody>\n",
       "    <tr>\n",
       "      <th>space</th>\n",
       "      <td>1.56</td>\n",
       "    </tr>\n",
       "    <tr>\n",
       "      <th>seattle</th>\n",
       "      <td>1.16</td>\n",
       "    </tr>\n",
       "    <tr>\n",
       "      <th>guest</th>\n",
       "      <td>0.86</td>\n",
       "    </tr>\n",
       "    <tr>\n",
       "      <th>home</th>\n",
       "      <td>0.76</td>\n",
       "    </tr>\n",
       "    <tr>\n",
       "      <th>bed</th>\n",
       "      <td>0.72</td>\n",
       "    </tr>\n",
       "    <tr>\n",
       "      <th>access</th>\n",
       "      <td>0.69</td>\n",
       "    </tr>\n",
       "    <tr>\n",
       "      <th>bedroom</th>\n",
       "      <td>0.68</td>\n",
       "    </tr>\n",
       "    <tr>\n",
       "      <th>kitchen</th>\n",
       "      <td>0.65</td>\n",
       "    </tr>\n",
       "    <tr>\n",
       "      <th>downtown</th>\n",
       "      <td>0.62</td>\n",
       "    </tr>\n",
       "    <tr>\n",
       "      <th>room</th>\n",
       "      <td>0.60</td>\n",
       "    </tr>\n",
       "  </tbody>\n",
       "</table>\n",
       "</div>"
      ],
      "text/plain": [
       "         ratio - high\n",
       "space            1.56\n",
       "seattle          1.16\n",
       "guest            0.86\n",
       "home             0.76\n",
       "bed              0.72\n",
       "access           0.69\n",
       "bedroom          0.68\n",
       "kitchen          0.65\n",
       "downtown         0.62\n",
       "room             0.60"
      ]
     },
     "execution_count": 46,
     "metadata": {},
     "output_type": "execute_result"
    }
   ],
   "source": [
    "# High success\n",
    "pd.options.display.float_format = \"{:,.2f}\".format\n",
    "\n",
    "high_success = descriptions.loc[descriptions['success_score'] == 'high'].reset_index(drop=True)\n",
    "high_success.drop(columns=['description','success_score'])\n",
    "high_word_sums = high_success.sum(axis=0)\n",
    "high_word_sums = high_word_sums.to_frame('ratio - high')\n",
    "high_word_sums.drop(high_word_sums.tail(2).index,inplace=True)\n",
    "high_word_sums['ratio - high'] = high_word_sums['ratio - high'] / len(high_success)\n",
    "\n",
    "most_used_high = high_word_sums[high_word_sums['ratio - high'] > 0.1]\n",
    "most_used_high.sort_values('ratio - high', inplace=True, ascending=False)\n",
    "most_used_high.head(10)"
   ]
  },
  {
   "cell_type": "code",
   "execution_count": 47,
   "metadata": {},
   "outputs": [
    {
     "data": {
      "text/plain": [
       "<AxesSubplot:>"
      ]
     },
     "execution_count": 47,
     "metadata": {},
     "output_type": "execute_result"
    },
    {
     "data": {
      "image/png": "[encoded data removed]",
      "text/plain": [
       "<Figure size 432x288 with 1 Axes>"
      ]
     },
     "metadata": {
      "needs_background": "light"
     },
     "output_type": "display_data"
    }
   ],
   "source": [
    "most_used_high.head(10).plot(kind='bar')"
   ]
  },
  {
   "cell_type": "code",
   "execution_count": 32,
   "metadata": {},
   "outputs": [
    {
     "data": {
      "text/html": [
       "<div>\n",
       "<style scoped>\n",
       "    .dataframe tbody tr th:only-of-type {\n",
       "        vertical-align: middle;\n",
       "    }\n",
       "\n",
       "    .dataframe tbody tr th {\n",
       "        vertical-align: top;\n",
       "    }\n",
       "\n",
       "    .dataframe thead th {\n",
       "        text-align: right;\n",
       "    }\n",
       "</style>\n",
       "<table border=\"1\" class=\"dataframe\">\n",
       "  <thead>\n",
       "    <tr style=\"text-align: right;\">\n",
       "      <th></th>\n",
       "      <th>ratio - low</th>\n",
       "    </tr>\n",
       "  </thead>\n",
       "  <tbody>\n",
       "    <tr>\n",
       "      <th>space</th>\n",
       "      <td>1.65</td>\n",
       "    </tr>\n",
       "    <tr>\n",
       "      <th>seattle</th>\n",
       "      <td>1.19</td>\n",
       "    </tr>\n",
       "    <tr>\n",
       "      <th>guest</th>\n",
       "      <td>1.00</td>\n",
       "    </tr>\n",
       "    <tr>\n",
       "      <th>room</th>\n",
       "      <td>0.92</td>\n",
       "    </tr>\n",
       "    <tr>\n",
       "      <th>home</th>\n",
       "      <td>0.81</td>\n",
       "    </tr>\n",
       "    <tr>\n",
       "      <th>private</th>\n",
       "      <td>0.80</td>\n",
       "    </tr>\n",
       "    <tr>\n",
       "      <th>access</th>\n",
       "      <td>0.79</td>\n",
       "    </tr>\n",
       "    <tr>\n",
       "      <th>kitchen</th>\n",
       "      <td>0.77</td>\n",
       "    </tr>\n",
       "    <tr>\n",
       "      <th>bed</th>\n",
       "      <td>0.74</td>\n",
       "    </tr>\n",
       "    <tr>\n",
       "      <th>bedroom</th>\n",
       "      <td>0.73</td>\n",
       "    </tr>\n",
       "  </tbody>\n",
       "</table>\n",
       "</div>"
      ],
      "text/plain": [
       "        ratio - low\n",
       "space          1.65\n",
       "seattle        1.19\n",
       "guest          1.00\n",
       "room           0.92\n",
       "home           0.81\n",
       "private        0.80\n",
       "access         0.79\n",
       "kitchen        0.77\n",
       "bed            0.74\n",
       "bedroom        0.73"
      ]
     },
     "execution_count": 32,
     "metadata": {},
     "output_type": "execute_result"
    }
   ],
   "source": [
    "# Low success\n",
    "low_success = descriptions.loc[descriptions['success_score'] == 'low'].reset_index(drop=True)\n",
    "low_success.drop(columns=['description','success_score'])\n",
    "low_word_sums = low_success.sum(axis=0)\n",
    "low_word_sums = low_word_sums.to_frame('ratio - low')\n",
    "low_word_sums.drop(low_word_sums.tail(2).index,inplace=True)\n",
    "low_word_sums['ratio - low'] = low_word_sums['ratio - low'] / len(low_success)\n",
    "\n",
    "most_used_low = low_word_sums[low_word_sums['ratio - low'] > 0.1]\n",
    "most_used_low.sort_values('ratio - low', inplace=True, ascending=False)\n",
    "most_used_low.head(10)"
   ]
  },
  {
   "cell_type": "code",
   "execution_count": 48,
   "metadata": {},
   "outputs": [
    {
     "data": {
      "text/plain": [
       "<AxesSubplot:>"
      ]
     },
     "execution_count": 48,
     "metadata": {},
     "output_type": "execute_result"
    },
    {
     "data": {
      "image/png": "[encoded data removed]",
      "text/plain": [
       "<Figure size 432x288 with 1 Axes>"
      ]
     },
     "metadata": {
      "needs_background": "light"
     },
     "output_type": "display_data"
    }
   ],
   "source": [
    "most_used_low.head(10).plot(kind='bar')"
   ]
  },
  {
   "cell_type": "code",
   "execution_count": 29,
   "metadata": {},
   "outputs": [
    {
     "data": {
      "text/html": [
       "<div>\n",
       "<style scoped>\n",
       "    .dataframe tbody tr th:only-of-type {\n",
       "        vertical-align: middle;\n",
       "    }\n",
       "\n",
       "    .dataframe tbody tr th {\n",
       "        vertical-align: top;\n",
       "    }\n",
       "\n",
       "    .dataframe thead th {\n",
       "        text-align: right;\n",
       "    }\n",
       "</style>\n",
       "<table border=\"1\" class=\"dataframe\">\n",
       "  <thead>\n",
       "    <tr style=\"text-align: right;\">\n",
       "      <th></th>\n",
       "      <th>ratio - high</th>\n",
       "      <th>ratio - low</th>\n",
       "      <th>difference</th>\n",
       "    </tr>\n",
       "  </thead>\n",
       "  <tbody>\n",
       "    <tr>\n",
       "      <th>view</th>\n",
       "      <td>0.593846</td>\n",
       "      <td>0.334291</td>\n",
       "      <td>0.259555</td>\n",
       "    </tr>\n",
       "    <tr>\n",
       "      <th>rooftop</th>\n",
       "      <td>0.166154</td>\n",
       "      <td>0.0608238</td>\n",
       "      <td>0.10533</td>\n",
       "    </tr>\n",
       "    <tr>\n",
       "      <th>license</th>\n",
       "      <td>0.332308</td>\n",
       "      <td>0.237548</td>\n",
       "      <td>0.0947598</td>\n",
       "    </tr>\n",
       "    <tr>\n",
       "      <th>number</th>\n",
       "      <td>0.338462</td>\n",
       "      <td>0.244732</td>\n",
       "      <td>0.0937297</td>\n",
       "    </tr>\n",
       "    <tr>\n",
       "      <th>stropli</th>\n",
       "      <td>0.289231</td>\n",
       "      <td>0.203544</td>\n",
       "      <td>0.0856867</td>\n",
       "    </tr>\n",
       "    <tr>\n",
       "      <th>entire</th>\n",
       "      <td>0.178462</td>\n",
       "      <td>0.0996169</td>\n",
       "      <td>0.0788447</td>\n",
       "    </tr>\n",
       "    <tr>\n",
       "      <th>deck</th>\n",
       "      <td>0.246154</td>\n",
       "      <td>0.170498</td>\n",
       "      <td>0.0756558</td>\n",
       "    </tr>\n",
       "    <tr>\n",
       "      <th>tv</th>\n",
       "      <td>0.396923</td>\n",
       "      <td>0.323276</td>\n",
       "      <td>0.0736472</td>\n",
       "    </tr>\n",
       "    <tr>\n",
       "      <th>water</th>\n",
       "      <td>0.163077</td>\n",
       "      <td>0.0905172</td>\n",
       "      <td>0.0725597</td>\n",
       "    </tr>\n",
       "    <tr>\n",
       "      <th>master</th>\n",
       "      <td>0.135385</td>\n",
       "      <td>0.0646552</td>\n",
       "      <td>0.0707294</td>\n",
       "    </tr>\n",
       "  </tbody>\n",
       "</table>\n",
       "</div>"
      ],
      "text/plain": [
       "        ratio - high ratio - low difference\n",
       "view        0.593846    0.334291   0.259555\n",
       "rooftop     0.166154   0.0608238    0.10533\n",
       "license     0.332308    0.237548  0.0947598\n",
       "number      0.338462    0.244732  0.0937297\n",
       "stropli     0.289231    0.203544  0.0856867\n",
       "entire      0.178462   0.0996169  0.0788447\n",
       "deck        0.246154    0.170498  0.0756558\n",
       "tv          0.396923    0.323276  0.0736472\n",
       "water       0.163077   0.0905172  0.0725597\n",
       "master      0.135385   0.0646552  0.0707294"
      ]
     },
     "execution_count": 29,
     "metadata": {},
     "output_type": "execute_result"
    }
   ],
   "source": [
    "# Compare\n",
    "comparison = pd.concat([high_word_sums, low_word_sums], axis=1)\n",
    "comparison['difference'] = comparison['ratio - high'] - comparison['ratio - low']\n",
    "\n",
    "best_words = comparison[comparison['difference'] > 0.05]\n",
    "best_words.sort_values('difference', inplace=True, ascending=False)\n",
    "best_words.head(10)"
   ]
  },
  {
   "cell_type": "code",
   "execution_count": 57,
   "metadata": {},
   "outputs": [
    {
     "data": {
      "text/plain": [
       "<AxesSubplot:>"
      ]
     },
     "execution_count": 57,
     "metadata": {},
     "output_type": "execute_result"
    },
    {
     "data": {
      "image/png": "[encoded data removed]",
      "text/plain": [
       "<Figure size 432x288 with 1 Axes>"
      ]
     },
     "metadata": {
      "needs_background": "light"
     },
     "output_type": "display_data"
    }
   ],
   "source": [
    "best_words['difference'].head(5).plot(kind='bar')"
   ]
  },
  {
   "cell_type": "code",
   "execution_count": 30,
   "metadata": {},
   "outputs": [
    {
     "data": {
      "text/html": [
       "<div>\n",
       "<style scoped>\n",
       "    .dataframe tbody tr th:only-of-type {\n",
       "        vertical-align: middle;\n",
       "    }\n",
       "\n",
       "    .dataframe tbody tr th {\n",
       "        vertical-align: top;\n",
       "    }\n",
       "\n",
       "    .dataframe thead th {\n",
       "        text-align: right;\n",
       "    }\n",
       "</style>\n",
       "<table border=\"1\" class=\"dataframe\">\n",
       "  <thead>\n",
       "    <tr style=\"text-align: right;\">\n",
       "      <th></th>\n",
       "      <th>ratio - high</th>\n",
       "      <th>ratio - low</th>\n",
       "      <th>difference</th>\n",
       "    </tr>\n",
       "  </thead>\n",
       "  <tbody>\n",
       "    <tr>\n",
       "      <th>room</th>\n",
       "      <td>0.6</td>\n",
       "      <td>0.921935</td>\n",
       "      <td>-0.321935</td>\n",
       "    </tr>\n",
       "    <tr>\n",
       "      <th>private</th>\n",
       "      <td>0.569231</td>\n",
       "      <td>0.796456</td>\n",
       "      <td>-0.227225</td>\n",
       "    </tr>\n",
       "    <tr>\n",
       "      <th>apartment</th>\n",
       "      <td>0.449231</td>\n",
       "      <td>0.641762</td>\n",
       "      <td>-0.192532</td>\n",
       "    </tr>\n",
       "    <tr>\n",
       "      <th>bathroom</th>\n",
       "      <td>0.341538</td>\n",
       "      <td>0.506226</td>\n",
       "      <td>-0.164688</td>\n",
       "    </tr>\n",
       "    <tr>\n",
       "      <th>entrance</th>\n",
       "      <td>0.156923</td>\n",
       "      <td>0.306034</td>\n",
       "      <td>-0.149111</td>\n",
       "    </tr>\n",
       "    <tr>\n",
       "      <th>guest</th>\n",
       "      <td>0.855385</td>\n",
       "      <td>1.00383</td>\n",
       "      <td>-0.148447</td>\n",
       "    </tr>\n",
       "    <tr>\n",
       "      <th>bus</th>\n",
       "      <td>0.175385</td>\n",
       "      <td>0.321839</td>\n",
       "      <td>-0.146454</td>\n",
       "    </tr>\n",
       "    <tr>\n",
       "      <th>shared</th>\n",
       "      <td>0.0676923</td>\n",
       "      <td>0.201149</td>\n",
       "      <td>-0.133457</td>\n",
       "    </tr>\n",
       "    <tr>\n",
       "      <th>kitchen</th>\n",
       "      <td>0.646154</td>\n",
       "      <td>0.76772</td>\n",
       "      <td>-0.121566</td>\n",
       "    </tr>\n",
       "    <tr>\n",
       "      <th>garden</th>\n",
       "      <td>0.0830769</td>\n",
       "      <td>0.191571</td>\n",
       "      <td>-0.108494</td>\n",
       "    </tr>\n",
       "  </tbody>\n",
       "</table>\n",
       "</div>"
      ],
      "text/plain": [
       "          ratio - high ratio - low difference\n",
       "room               0.6    0.921935  -0.321935\n",
       "private       0.569231    0.796456  -0.227225\n",
       "apartment     0.449231    0.641762  -0.192532\n",
       "bathroom      0.341538    0.506226  -0.164688\n",
       "entrance      0.156923    0.306034  -0.149111\n",
       "guest         0.855385     1.00383  -0.148447\n",
       "bus           0.175385    0.321839  -0.146454\n",
       "shared       0.0676923    0.201149  -0.133457\n",
       "kitchen       0.646154     0.76772  -0.121566\n",
       "garden       0.0830769    0.191571  -0.108494"
      ]
     },
     "execution_count": 30,
     "metadata": {},
     "output_type": "execute_result"
    }
   ],
   "source": [
    "worst_words = comparison[comparison['difference'] < -0.05]\n",
    "worst_words.sort_values('difference', inplace=True)\n",
    "worst_words.head(10)"
   ]
  },
  {
   "cell_type": "code",
   "execution_count": 56,
   "metadata": {},
   "outputs": [
    {
     "data": {
      "text/plain": [
       "<AxesSubplot:>"
      ]
     },
     "execution_count": 56,
     "metadata": {},
     "output_type": "execute_result"
    },
    {
     "data": {
      "image/png": "[encoded data removed]",
      "text/plain": [
       "<Figure size 432x288 with 1 Axes>"
      ]
     },
     "metadata": {
      "needs_background": "light"
     },
     "output_type": "display_data"
    }
   ],
   "source": [
    "worst_words['difference'].head(5).plot(kind='bar')"
   ]
  }
 ],
 "metadata": {
  "kernelspec": {
   "display_name": "Python 3",
   "language": "python",
   "name": "python3"
  },
  "language_info": {
   "codemirror_mode": {
    "name": "ipython",
    "version": 3
   },
   "file_extension": ".py",
   "mimetype": "text/x-python",
   "name": "python",
   "nbconvert_exporter": "python",
   "pygments_lexer": "ipython3",
   "version": "3.8.5"
  }
 },
 "nbformat": 4,
 "nbformat_minor": 4
}
